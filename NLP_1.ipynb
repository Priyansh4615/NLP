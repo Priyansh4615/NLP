{
  "nbformat": 4,
  "nbformat_minor": 0,
  "metadata": {
    "colab": {
      "provenance": [],
      "authorship_tag": "ABX9TyOE7KKht5Iqpr9D49OaFIUD",
      "include_colab_link": true
    },
    "kernelspec": {
      "name": "python3",
      "display_name": "Python 3"
    },
    "language_info": {
      "name": "python"
    }
  },
  "cells": [
    {
      "cell_type": "markdown",
      "metadata": {
        "id": "view-in-github",
        "colab_type": "text"
      },
      "source": [
        "<a href=\"https://colab.research.google.com/github/Priyansh4615/NLP/blob/main/NLP_1.ipynb\" target=\"_parent\"><img src=\"https://colab.research.google.com/assets/colab-badge.svg\" alt=\"Open In Colab\"/></a>"
      ]
    },
    {
      "cell_type": "code",
      "execution_count": 20,
      "metadata": {
        "colab": {
          "base_uri": "https://localhost:8080/"
        },
        "id": "W34EyrumIr6J",
        "outputId": "1580a06c-6807-471b-d818-8297752bca3c"
      },
      "outputs": [
        {
          "output_type": "stream",
          "name": "stdout",
          "text": [
            "Requirement already satisfied: nltk in /usr/local/lib/python3.10/dist-packages (3.8.1)\n",
            "Requirement already satisfied: click in /usr/local/lib/python3.10/dist-packages (from nltk) (8.1.4)\n",
            "Requirement already satisfied: joblib in /usr/local/lib/python3.10/dist-packages (from nltk) (1.3.1)\n",
            "Requirement already satisfied: regex>=2021.8.3 in /usr/local/lib/python3.10/dist-packages (from nltk) (2022.10.31)\n",
            "Requirement already satisfied: tqdm in /usr/local/lib/python3.10/dist-packages (from nltk) (4.65.0)\n"
          ]
        }
      ],
      "source": [
        "!pip install nltk"
      ]
    },
    {
      "cell_type": "code",
      "source": [
        "paragraph =\"\"\" One Piece has received praise for its storytelling, world-building, art, characterization, and humor. It has received many awards and is ranked by critics, reviewers, and readers as one of the best manga of all time. As of August 2022, it had over 516.6 million copies in circulation in 61 countries and regions worldwide, making it the best-selling manga series in history, and the best-selling comic series printed in book volume. Several volumes of the manga have broken publishing records, including the highest initial print run of any book in Japan. In 2015 and 2022, One Piece set the Guinness World Record for \"the most copies published for the same comic book series by a single author\". It was the best-selling manga for eleven consecutive years from 2008 to 2018, and is the only manga that had an initial print of volumes of above 3 million continuously for more than 10 years, as well as the only that had achieved more than 1 million copies sold in all of its over 100 published tankōbon volumes. One Piece is the only manga whose volumes have ranked first every year in Oricon's weekly comic chart existence since 2008.\"\"\""
      ],
      "metadata": {
        "id": "1sfkZXa9IwLo"
      },
      "execution_count": 21,
      "outputs": []
    },
    {
      "cell_type": "code",
      "source": [
        "paragraph"
      ],
      "metadata": {
        "colab": {
          "base_uri": "https://localhost:8080/",
          "height": 123
        },
        "id": "9-VuIleWKygs",
        "outputId": "772dbe10-e425-435b-f193-be1e6101a2b2"
      },
      "execution_count": 22,
      "outputs": [
        {
          "output_type": "execute_result",
          "data": {
            "text/plain": [
              "' One Piece has received praise for its storytelling, world-building, art, characterization, and humor. It has received many awards and is ranked by critics, reviewers, and readers as one of the best manga of all time. As of August 2022, it had over 516.6 million copies in circulation in 61 countries and regions worldwide, making it the best-selling manga series in history, and the best-selling comic series printed in book volume. Several volumes of the manga have broken publishing records, including the highest initial print run of any book in Japan. In 2015 and 2022, One Piece set the Guinness World Record for \"the most copies published for the same comic book series by a single author\". It was the best-selling manga for eleven consecutive years from 2008 to 2018, and is the only manga that had an initial print of volumes of above 3 million continuously for more than 10 years, as well as the only that had achieved more than 1 million copies sold in all of its over 100 published tankōbon volumes. One Piece is the only manga whose volumes have ranked first every year in Oricon\\'s weekly comic chart existence since 2008.'"
            ],
            "application/vnd.google.colaboratory.intrinsic+json": {
              "type": "string"
            }
          },
          "metadata": {},
          "execution_count": 22
        }
      ]
    },
    {
      "cell_type": "code",
      "source": [
        "import nltk\n",
        "from nltk.stem import PorterStemmer\n",
        "from nltk.corpus import stopwords"
      ],
      "metadata": {
        "id": "y6-wGjGyK0lB"
      },
      "execution_count": 23,
      "outputs": []
    },
    {
      "cell_type": "code",
      "source": [
        "## Tokenization : Convert Paragarph --> Sentences --> Words\n",
        "\n",
        "nltk.download('punkt')\n",
        "sentences = nltk.sent_tokenize(paragraph)"
      ],
      "metadata": {
        "colab": {
          "base_uri": "https://localhost:8080/"
        },
        "id": "cq6HKIVILEwh",
        "outputId": "37b0185b-4f48-4bba-b737-a4a83fe1df9f"
      },
      "execution_count": 24,
      "outputs": [
        {
          "output_type": "stream",
          "name": "stderr",
          "text": [
            "[nltk_data] Downloading package punkt to /root/nltk_data...\n",
            "[nltk_data]   Package punkt is already up-to-date!\n"
          ]
        }
      ]
    },
    {
      "cell_type": "code",
      "source": [
        "print(sentences)"
      ],
      "metadata": {
        "colab": {
          "base_uri": "https://localhost:8080/"
        },
        "id": "Myeb-7RDXCom",
        "outputId": "b855cd5e-347d-46ea-bbf4-0513aa9ce580"
      },
      "execution_count": 25,
      "outputs": [
        {
          "output_type": "stream",
          "name": "stdout",
          "text": [
            "[' One Piece has received praise for its storytelling, world-building, art, characterization, and humor.', 'It has received many awards and is ranked by critics, reviewers, and readers as one of the best manga of all time.', 'As of August 2022, it had over 516.6 million copies in circulation in 61 countries and regions worldwide, making it the best-selling manga series in history, and the best-selling comic series printed in book volume.', 'Several volumes of the manga have broken publishing records, including the highest initial print run of any book in Japan.', 'In 2015 and 2022, One Piece set the Guinness World Record for \"the most copies published for the same comic book series by a single author\".', 'It was the best-selling manga for eleven consecutive years from 2008 to 2018, and is the only manga that had an initial print of volumes of above 3 million continuously for more than 10 years, as well as the only that had achieved more than 1 million copies sold in all of its over 100 published tankōbon volumes.', \"One Piece is the only manga whose volumes have ranked first every year in Oricon's weekly comic chart existence since 2008.\"]\n"
          ]
        }
      ]
    },
    {
      "cell_type": "code",
      "source": [
        "type(sentences)"
      ],
      "metadata": {
        "colab": {
          "base_uri": "https://localhost:8080/"
        },
        "id": "kaBuklXKXI0b",
        "outputId": "da577bc5-577d-432b-bf82-a52c3e8a2312"
      },
      "execution_count": 26,
      "outputs": [
        {
          "output_type": "execute_result",
          "data": {
            "text/plain": [
              "list"
            ]
          },
          "metadata": {},
          "execution_count": 26
        }
      ]
    },
    {
      "cell_type": "code",
      "source": [
        "stemmer = PorterStemmer()"
      ],
      "metadata": {
        "id": "QyXhedt2Zq8X"
      },
      "execution_count": 27,
      "outputs": []
    },
    {
      "cell_type": "code",
      "source": [
        "stemmer.stem('going')"
      ],
      "metadata": {
        "colab": {
          "base_uri": "https://localhost:8080/",
          "height": 36
        },
        "id": "gK9jlqyxPaQg",
        "outputId": "992f2dda-d26b-4cd0-a619-fa646378a6f6"
      },
      "execution_count": 28,
      "outputs": [
        {
          "output_type": "execute_result",
          "data": {
            "text/plain": [
              "'go'"
            ],
            "application/vnd.google.colaboratory.intrinsic+json": {
              "type": "string"
            }
          },
          "metadata": {},
          "execution_count": 28
        }
      ]
    },
    {
      "cell_type": "code",
      "source": [
        "stemmer.stem('history')"
      ],
      "metadata": {
        "colab": {
          "base_uri": "https://localhost:8080/",
          "height": 36
        },
        "id": "V_k13GX1PeVD",
        "outputId": "aba80580-3e03-4aa4-a85f-3dc6120c61d2"
      },
      "execution_count": 29,
      "outputs": [
        {
          "output_type": "execute_result",
          "data": {
            "text/plain": [
              "'histori'"
            ],
            "application/vnd.google.colaboratory.intrinsic+json": {
              "type": "string"
            }
          },
          "metadata": {},
          "execution_count": 29
        }
      ]
    },
    {
      "cell_type": "markdown",
      "source": [
        "**LEMMATIZATION**"
      ],
      "metadata": {
        "id": "dgBBEWgFQc2C"
      }
    },
    {
      "cell_type": "code",
      "source": [
        "from nltk.stem import WordNetLemmatizer"
      ],
      "metadata": {
        "id": "gguTYIpeQM3K"
      },
      "execution_count": 30,
      "outputs": []
    },
    {
      "cell_type": "code",
      "source": [
        "nltk.download('averaged_perceptron_tagger')"
      ],
      "metadata": {
        "id": "uYsjZ-zRRHfX",
        "outputId": "182ad6e4-7c74-49aa-b175-f77a14035520",
        "colab": {
          "base_uri": "https://localhost:8080/"
        }
      },
      "execution_count": 31,
      "outputs": [
        {
          "output_type": "stream",
          "name": "stderr",
          "text": [
            "[nltk_data] Downloading package averaged_perceptron_tagger to\n",
            "[nltk_data]     /root/nltk_data...\n",
            "[nltk_data]   Package averaged_perceptron_tagger is already up-to-\n",
            "[nltk_data]       date!\n"
          ]
        },
        {
          "output_type": "execute_result",
          "data": {
            "text/plain": [
              "True"
            ]
          },
          "metadata": {},
          "execution_count": 31
        }
      ]
    },
    {
      "cell_type": "code",
      "source": [
        "lemmatizer = WordNetLemmatizer()"
      ],
      "metadata": {
        "id": "cDrDB86cQX65"
      },
      "execution_count": 32,
      "outputs": []
    },
    {
      "cell_type": "code",
      "source": [
        "nltk.download('stopwords')"
      ],
      "metadata": {
        "colab": {
          "base_uri": "https://localhost:8080/"
        },
        "id": "E6Y-baHwQpcq",
        "outputId": "8136eef5-be85-481c-d946-d98c3c444d6c"
      },
      "execution_count": 38,
      "outputs": [
        {
          "output_type": "stream",
          "name": "stderr",
          "text": [
            "[nltk_data] Downloading package stopwords to /root/nltk_data...\n",
            "[nltk_data]   Unzipping corpora/stopwords.zip.\n"
          ]
        },
        {
          "output_type": "execute_result",
          "data": {
            "text/plain": [
              "True"
            ]
          },
          "metadata": {},
          "execution_count": 38
        }
      ]
    },
    {
      "cell_type": "code",
      "source": [
        "nltk.download('wordnet')"
      ],
      "metadata": {
        "colab": {
          "base_uri": "https://localhost:8080/"
        },
        "id": "xttjWMysVBB5",
        "outputId": "7e7cc5a6-c3fd-4a7f-e889-a3dd7f73c0b9"
      },
      "execution_count": 41,
      "outputs": [
        {
          "output_type": "stream",
          "name": "stderr",
          "text": [
            "[nltk_data] Downloading package wordnet to /root/nltk_data...\n"
          ]
        },
        {
          "output_type": "execute_result",
          "data": {
            "text/plain": [
              "True"
            ]
          },
          "metadata": {},
          "execution_count": 41
        }
      ]
    },
    {
      "cell_type": "code",
      "source": [
        "len(sentences)"
      ],
      "metadata": {
        "id": "BbaGbI9JQtyu",
        "colab": {
          "base_uri": "https://localhost:8080/"
        },
        "outputId": "557712c9-3208-4185-e91d-c7ff9b2f2c43"
      },
      "execution_count": 33,
      "outputs": [
        {
          "output_type": "execute_result",
          "data": {
            "text/plain": [
              "7"
            ]
          },
          "metadata": {},
          "execution_count": 33
        }
      ]
    },
    {
      "cell_type": "code",
      "source": [
        "import re"
      ],
      "metadata": {
        "id": "eAxg3WoMSgL1"
      },
      "execution_count": 34,
      "outputs": []
    },
    {
      "cell_type": "code",
      "source": [
        "corpus = []\n",
        "for i in range(len(sentences)):\n",
        "  review = re.sub('[^a-zA-Z]',' ', sentences[i])\n",
        "  review = review.lower()\n",
        "  corpus.append(review)"
      ],
      "metadata": {
        "id": "lTs4jDFCSiRp"
      },
      "execution_count": 35,
      "outputs": []
    },
    {
      "cell_type": "code",
      "source": [
        "corpus"
      ],
      "metadata": {
        "colab": {
          "base_uri": "https://localhost:8080/"
        },
        "id": "rnyBWAaVS_co",
        "outputId": "bf3274a9-dc45-409b-bd99-62780c5f653f"
      },
      "execution_count": 36,
      "outputs": [
        {
          "output_type": "execute_result",
          "data": {
            "text/plain": [
              "[' one piece has received praise for its storytelling  world building  art  characterization  and humor ',\n",
              " 'it has received many awards and is ranked by critics  reviewers  and readers as one of the best manga of all time ',\n",
              " 'as of august       it had over       million copies in circulation in    countries and regions worldwide  making it the best selling manga series in history  and the best selling comic series printed in book volume ',\n",
              " 'several volumes of the manga have broken publishing records  including the highest initial print run of any book in japan ',\n",
              " 'in      and       one piece set the guinness world record for  the most copies published for the same comic book series by a single author  ',\n",
              " 'it was the best selling manga for eleven consecutive years from      to       and is the only manga that had an initial print of volumes of above   million continuously for more than    years  as well as the only that had achieved more than   million copies sold in all of its over     published tank bon volumes ',\n",
              " 'one piece is the only manga whose volumes have ranked first every year in oricon s weekly comic chart existence since      ']"
            ]
          },
          "metadata": {},
          "execution_count": 36
        }
      ]
    },
    {
      "cell_type": "code",
      "source": [
        "## stemming\n",
        "\n",
        "for i in corpus:\n",
        "  words = nltk.word_tokenize(i)\n",
        "  for word in words:\n",
        "    if word not in set(stopwords.words('english')):\n",
        "      print(stemmer.stem(word))"
      ],
      "metadata": {
        "colab": {
          "base_uri": "https://localhost:8080/"
        },
        "id": "ed2f_cLLTBU1",
        "outputId": "207254ee-3d10-4f51-a3cd-95de365da769"
      },
      "execution_count": 39,
      "outputs": [
        {
          "output_type": "stream",
          "name": "stdout",
          "text": [
            "one\n",
            "piec\n",
            "receiv\n",
            "prais\n",
            "storytel\n",
            "world\n",
            "build\n",
            "art\n",
            "character\n",
            "humor\n",
            "receiv\n",
            "mani\n",
            "award\n",
            "rank\n",
            "critic\n",
            "review\n",
            "reader\n",
            "one\n",
            "best\n",
            "manga\n",
            "time\n",
            "august\n",
            "million\n",
            "copi\n",
            "circul\n",
            "countri\n",
            "region\n",
            "worldwid\n",
            "make\n",
            "best\n",
            "sell\n",
            "manga\n",
            "seri\n",
            "histori\n",
            "best\n",
            "sell\n",
            "comic\n",
            "seri\n",
            "print\n",
            "book\n",
            "volum\n",
            "sever\n",
            "volum\n",
            "manga\n",
            "broken\n",
            "publish\n",
            "record\n",
            "includ\n",
            "highest\n",
            "initi\n",
            "print\n",
            "run\n",
            "book\n",
            "japan\n",
            "one\n",
            "piec\n",
            "set\n",
            "guin\n",
            "world\n",
            "record\n",
            "copi\n",
            "publish\n",
            "comic\n",
            "book\n",
            "seri\n",
            "singl\n",
            "author\n",
            "best\n",
            "sell\n",
            "manga\n",
            "eleven\n",
            "consecut\n",
            "year\n",
            "manga\n",
            "initi\n",
            "print\n",
            "volum\n",
            "million\n",
            "continu\n",
            "year\n",
            "well\n",
            "achiev\n",
            "million\n",
            "copi\n",
            "sold\n",
            "publish\n",
            "tank\n",
            "bon\n",
            "volum\n",
            "one\n",
            "piec\n",
            "manga\n",
            "whose\n",
            "volum\n",
            "rank\n",
            "first\n",
            "everi\n",
            "year\n",
            "oricon\n",
            "weekli\n",
            "comic\n",
            "chart\n",
            "exist\n",
            "sinc\n"
          ]
        }
      ]
    },
    {
      "cell_type": "code",
      "source": [
        "for i in corpus:\n",
        "  words = nltk.word_tokenize(i)\n",
        "  for word in words:\n",
        "    if word not in set(stopwords.words('english')):\n",
        "      print(lemmatizer.lemmatize(word))"
      ],
      "metadata": {
        "colab": {
          "base_uri": "https://localhost:8080/"
        },
        "id": "DK-hKyutUUhB",
        "outputId": "a8780842-bc0c-4812-f56d-df643f0674d4"
      },
      "execution_count": 42,
      "outputs": [
        {
          "output_type": "stream",
          "name": "stdout",
          "text": [
            "one\n",
            "piece\n",
            "received\n",
            "praise\n",
            "storytelling\n",
            "world\n",
            "building\n",
            "art\n",
            "characterization\n",
            "humor\n",
            "received\n",
            "many\n",
            "award\n",
            "ranked\n",
            "critic\n",
            "reviewer\n",
            "reader\n",
            "one\n",
            "best\n",
            "manga\n",
            "time\n",
            "august\n",
            "million\n",
            "copy\n",
            "circulation\n",
            "country\n",
            "region\n",
            "worldwide\n",
            "making\n",
            "best\n",
            "selling\n",
            "manga\n",
            "series\n",
            "history\n",
            "best\n",
            "selling\n",
            "comic\n",
            "series\n",
            "printed\n",
            "book\n",
            "volume\n",
            "several\n",
            "volume\n",
            "manga\n",
            "broken\n",
            "publishing\n",
            "record\n",
            "including\n",
            "highest\n",
            "initial\n",
            "print\n",
            "run\n",
            "book\n",
            "japan\n",
            "one\n",
            "piece\n",
            "set\n",
            "guinness\n",
            "world\n",
            "record\n",
            "copy\n",
            "published\n",
            "comic\n",
            "book\n",
            "series\n",
            "single\n",
            "author\n",
            "best\n",
            "selling\n",
            "manga\n",
            "eleven\n",
            "consecutive\n",
            "year\n",
            "manga\n",
            "initial\n",
            "print\n",
            "volume\n",
            "million\n",
            "continuously\n",
            "year\n",
            "well\n",
            "achieved\n",
            "million\n",
            "copy\n",
            "sold\n",
            "published\n",
            "tank\n",
            "bon\n",
            "volume\n",
            "one\n",
            "piece\n",
            "manga\n",
            "whose\n",
            "volume\n",
            "ranked\n",
            "first\n",
            "every\n",
            "year\n",
            "oricon\n",
            "weekly\n",
            "comic\n",
            "chart\n",
            "existence\n",
            "since\n"
          ]
        }
      ]
    },
    {
      "cell_type": "code",
      "source": [
        "## Apply stopwords . lemmatize\n",
        "\n",
        "import re\n",
        "corpus = []\n",
        "for i in range(len(sentences)):\n",
        "  review = re.sub('[^a-zA-Z]', ' ', sentences[i])\n",
        "  review = review.lower()\n",
        "  review = review.split()\n",
        "  review = [lemmatizer.lemmatize(word) for word in review if not word in set(stopwords.words('english'))]\n",
        "  review = ' '.join(review)\n",
        "  corpus.append(review)"
      ],
      "metadata": {
        "id": "997XsScaaZKQ"
      },
      "execution_count": 56,
      "outputs": []
    },
    {
      "cell_type": "code",
      "source": [
        "## bag of words\n",
        "\n",
        "from sklearn.feature_extraction.text import CountVectorizer\n",
        "cv = CountVectorizer(binary = True)"
      ],
      "metadata": {
        "id": "cPqVZ-_JU5SH"
      },
      "execution_count": 57,
      "outputs": []
    },
    {
      "cell_type": "code",
      "source": [
        "X = cv.fit_transform(corpus)"
      ],
      "metadata": {
        "id": "-WvLcHRaXy6e"
      },
      "execution_count": 58,
      "outputs": []
    },
    {
      "cell_type": "code",
      "source": [
        "cv.vocabulary_"
      ],
      "metadata": {
        "colab": {
          "base_uri": "https://localhost:8080/"
        },
        "id": "phA_OeK0X6vd",
        "outputId": "d8aafeee-ea77-480f-cf73-3792550f9876"
      },
      "execution_count": 59,
      "outputs": [
        {
          "output_type": "execute_result",
          "data": {
            "text/plain": [
              "{'one': 34,\n",
              " 'piece': 36,\n",
              " 'received': 44,\n",
              " 'praise': 37,\n",
              " 'storytelling': 56,\n",
              " 'world': 63,\n",
              " 'building': 9,\n",
              " 'art': 1,\n",
              " 'characterization': 10,\n",
              " 'humor': 26,\n",
              " 'many': 32,\n",
              " 'award': 4,\n",
              " 'ranked': 42,\n",
              " 'critic': 18,\n",
              " 'reviewer': 47,\n",
              " 'reader': 43,\n",
              " 'best': 5,\n",
              " 'manga': 31,\n",
              " 'time': 58,\n",
              " 'august': 2,\n",
              " 'million': 33,\n",
              " 'copy': 16,\n",
              " 'circulation': 12,\n",
              " 'country': 17,\n",
              " 'region': 46,\n",
              " 'worldwide': 64,\n",
              " 'making': 30,\n",
              " 'selling': 49,\n",
              " 'series': 50,\n",
              " 'history': 25,\n",
              " 'comic': 13,\n",
              " 'printed': 39,\n",
              " 'book': 7,\n",
              " 'volume': 59,\n",
              " 'several': 52,\n",
              " 'broken': 8,\n",
              " 'publishing': 41,\n",
              " 'record': 45,\n",
              " 'including': 27,\n",
              " 'highest': 24,\n",
              " 'initial': 28,\n",
              " 'print': 38,\n",
              " 'run': 48,\n",
              " 'japan': 29,\n",
              " 'set': 51,\n",
              " 'guinness': 23,\n",
              " 'published': 40,\n",
              " 'single': 54,\n",
              " 'author': 3,\n",
              " 'eleven': 19,\n",
              " 'consecutive': 14,\n",
              " 'year': 65,\n",
              " 'continuously': 15,\n",
              " 'well': 61,\n",
              " 'achieved': 0,\n",
              " 'sold': 55,\n",
              " 'tank': 57,\n",
              " 'bon': 6,\n",
              " 'whose': 62,\n",
              " 'first': 22,\n",
              " 'every': 20,\n",
              " 'oricon': 35,\n",
              " 'weekly': 60,\n",
              " 'chart': 11,\n",
              " 'existence': 21,\n",
              " 'since': 53}"
            ]
          },
          "metadata": {},
          "execution_count": 59
        }
      ]
    },
    {
      "cell_type": "code",
      "source": [
        "X[0].toarray()"
      ],
      "metadata": {
        "colab": {
          "base_uri": "https://localhost:8080/"
        },
        "id": "6y2nB3xLX-PF",
        "outputId": "eca768db-e5fe-4880-b1ea-e6218acb7386"
      },
      "execution_count": 60,
      "outputs": [
        {
          "output_type": "execute_result",
          "data": {
            "text/plain": [
              "array([[0, 1, 0, 0, 0, 0, 0, 0, 0, 1, 1, 0, 0, 0, 0, 0, 0, 0, 0, 0, 0, 0,\n",
              "        0, 0, 0, 0, 1, 0, 0, 0, 0, 0, 0, 0, 1, 0, 1, 1, 0, 0, 0, 0, 0, 0,\n",
              "        1, 0, 0, 0, 0, 0, 0, 0, 0, 0, 0, 0, 1, 0, 0, 0, 0, 0, 0, 1, 0, 0]])"
            ]
          },
          "metadata": {},
          "execution_count": 60
        }
      ]
    },
    {
      "cell_type": "code",
      "source": [],
      "metadata": {
        "id": "nFxi73AiZpSG"
      },
      "execution_count": null,
      "outputs": []
    }
  ]
}