{
  "nbformat": 4,
  "nbformat_minor": 0,
  "metadata": {
    "colab": {
      "provenance": [],
      "authorship_tag": "ABX9TyMrDh8KLWIFsk59AuxbnOAQ",
      "include_colab_link": true
    },
    "kernelspec": {
      "name": "python3",
      "display_name": "Python 3"
    },
    "language_info": {
      "name": "python"
    }
  },
  "cells": [
    {
      "cell_type": "markdown",
      "metadata": {
        "id": "view-in-github",
        "colab_type": "text"
      },
      "source": [
        "<a href=\"https://colab.research.google.com/github/Priyansh4615/NLP/blob/main/NLP_1.ipynb\" target=\"_parent\"><img src=\"https://colab.research.google.com/assets/colab-badge.svg\" alt=\"Open In Colab\"/></a>"
      ]
    },
    {
      "cell_type": "code",
      "execution_count": 1,
      "metadata": {
        "colab": {
          "base_uri": "https://localhost:8080/"
        },
        "id": "W34EyrumIr6J",
        "outputId": "2daa60c1-1dc7-4c11-fbd2-8d31184492c0"
      },
      "outputs": [
        {
          "output_type": "stream",
          "name": "stdout",
          "text": [
            "Requirement already satisfied: nltk in /usr/local/lib/python3.10/dist-packages (3.8.1)\n",
            "Requirement already satisfied: click in /usr/local/lib/python3.10/dist-packages (from nltk) (8.1.4)\n",
            "Requirement already satisfied: joblib in /usr/local/lib/python3.10/dist-packages (from nltk) (1.3.1)\n",
            "Requirement already satisfied: regex>=2021.8.3 in /usr/local/lib/python3.10/dist-packages (from nltk) (2022.10.31)\n",
            "Requirement already satisfied: tqdm in /usr/local/lib/python3.10/dist-packages (from nltk) (4.65.0)\n"
          ]
        }
      ],
      "source": [
        "!pip install nltk"
      ]
    },
    {
      "cell_type": "code",
      "source": [
        "paragraph =\"\"\" One Piece has received praise for its storytelling, world-building, art, characterization, and humor. It has received many awards and is ranked by critics, reviewers, and readers as one of the best manga of all time. As of August 2022, it had over 516.6 million copies in circulation in 61 countries and regions worldwide, making it the best-selling manga series in history, and the best-selling comic series printed in book volume. Several volumes of the manga have broken publishing records, including the highest initial print run of any book in Japan. In 2015 and 2022, One Piece set the Guinness World Record for \"the most copies published for the same comic book series by a single author\". It was the best-selling manga for eleven consecutive years from 2008 to 2018, and is the only manga that had an initial print of volumes of above 3 million continuously for more than 10 years, as well as the only that had achieved more than 1 million copies sold in all of its over 100 published tankōbon volumes. One Piece is the only manga whose volumes have ranked first every year in Oricon's weekly comic chart existence since 2008.\"\"\""
      ],
      "metadata": {
        "id": "1sfkZXa9IwLo"
      },
      "execution_count": 2,
      "outputs": []
    },
    {
      "cell_type": "code",
      "source": [
        "paragraph"
      ],
      "metadata": {
        "colab": {
          "base_uri": "https://localhost:8080/",
          "height": 123
        },
        "id": "9-VuIleWKygs",
        "outputId": "3826ccfe-c5d0-452b-aef5-414f61f4331e"
      },
      "execution_count": 3,
      "outputs": [
        {
          "output_type": "execute_result",
          "data": {
            "text/plain": [
              "' One Piece has received praise for its storytelling, world-building, art, characterization, and humor. It has received many awards and is ranked by critics, reviewers, and readers as one of the best manga of all time. As of August 2022, it had over 516.6 million copies in circulation in 61 countries and regions worldwide, making it the best-selling manga series in history, and the best-selling comic series printed in book volume. Several volumes of the manga have broken publishing records, including the highest initial print run of any book in Japan. In 2015 and 2022, One Piece set the Guinness World Record for \"the most copies published for the same comic book series by a single author\". It was the best-selling manga for eleven consecutive years from 2008 to 2018, and is the only manga that had an initial print of volumes of above 3 million continuously for more than 10 years, as well as the only that had achieved more than 1 million copies sold in all of its over 100 published tankōbon volumes. One Piece is the only manga whose volumes have ranked first every year in Oricon\\'s weekly comic chart existence since 2008.'"
            ],
            "application/vnd.google.colaboratory.intrinsic+json": {
              "type": "string"
            }
          },
          "metadata": {},
          "execution_count": 3
        }
      ]
    },
    {
      "cell_type": "code",
      "source": [
        "import nltk\n",
        "from nltk.stem import PorterStemmer\n",
        "from nltk.corpus import stopwords"
      ],
      "metadata": {
        "id": "y6-wGjGyK0lB"
      },
      "execution_count": 4,
      "outputs": []
    },
    {
      "cell_type": "code",
      "source": [
        "## Tokenization : Convert Paragarph --> Sentences --> Words\n",
        "\n",
        "nltk.download('punkt')\n",
        "sentences = nltk.sent_tokenize(paragraph)"
      ],
      "metadata": {
        "colab": {
          "base_uri": "https://localhost:8080/"
        },
        "id": "cq6HKIVILEwh",
        "outputId": "e836e915-13f2-474f-c04c-5deb3297d13c"
      },
      "execution_count": 5,
      "outputs": [
        {
          "output_type": "stream",
          "name": "stderr",
          "text": [
            "[nltk_data] Downloading package punkt to /root/nltk_data...\n",
            "[nltk_data]   Unzipping tokenizers/punkt.zip.\n"
          ]
        }
      ]
    },
    {
      "cell_type": "code",
      "source": [
        "print(sentences)"
      ],
      "metadata": {
        "colab": {
          "base_uri": "https://localhost:8080/"
        },
        "id": "Myeb-7RDXCom",
        "outputId": "03ac3001-2e5c-479f-a07f-48b1c891995b"
      },
      "execution_count": 6,
      "outputs": [
        {
          "output_type": "stream",
          "name": "stdout",
          "text": [
            "[' One Piece has received praise for its storytelling, world-building, art, characterization, and humor.', 'It has received many awards and is ranked by critics, reviewers, and readers as one of the best manga of all time.', 'As of August 2022, it had over 516.6 million copies in circulation in 61 countries and regions worldwide, making it the best-selling manga series in history, and the best-selling comic series printed in book volume.', 'Several volumes of the manga have broken publishing records, including the highest initial print run of any book in Japan.', 'In 2015 and 2022, One Piece set the Guinness World Record for \"the most copies published for the same comic book series by a single author\".', 'It was the best-selling manga for eleven consecutive years from 2008 to 2018, and is the only manga that had an initial print of volumes of above 3 million continuously for more than 10 years, as well as the only that had achieved more than 1 million copies sold in all of its over 100 published tankōbon volumes.', \"One Piece is the only manga whose volumes have ranked first every year in Oricon's weekly comic chart existence since 2008.\"]\n"
          ]
        }
      ]
    },
    {
      "cell_type": "code",
      "source": [
        "type(sentences)"
      ],
      "metadata": {
        "colab": {
          "base_uri": "https://localhost:8080/"
        },
        "id": "kaBuklXKXI0b",
        "outputId": "fba9ffa2-7781-40ff-e644-2ff0220d0afe"
      },
      "execution_count": 7,
      "outputs": [
        {
          "output_type": "execute_result",
          "data": {
            "text/plain": [
              "list"
            ]
          },
          "metadata": {},
          "execution_count": 7
        }
      ]
    },
    {
      "cell_type": "code",
      "source": [
        "stemmer = PorterStemmer()"
      ],
      "metadata": {
        "id": "QyXhedt2Zq8X"
      },
      "execution_count": 8,
      "outputs": []
    },
    {
      "cell_type": "code",
      "source": [
        "stemmer.stem('going')"
      ],
      "metadata": {
        "colab": {
          "base_uri": "https://localhost:8080/",
          "height": 36
        },
        "id": "gK9jlqyxPaQg",
        "outputId": "bb406e71-0e55-4f65-b3ff-c97676a671bd"
      },
      "execution_count": 9,
      "outputs": [
        {
          "output_type": "execute_result",
          "data": {
            "text/plain": [
              "'go'"
            ],
            "application/vnd.google.colaboratory.intrinsic+json": {
              "type": "string"
            }
          },
          "metadata": {},
          "execution_count": 9
        }
      ]
    },
    {
      "cell_type": "code",
      "source": [
        "stemmer.stem('history')"
      ],
      "metadata": {
        "colab": {
          "base_uri": "https://localhost:8080/",
          "height": 36
        },
        "id": "V_k13GX1PeVD",
        "outputId": "617da96f-71b8-4049-f6a1-7555c3a78c5d"
      },
      "execution_count": 10,
      "outputs": [
        {
          "output_type": "execute_result",
          "data": {
            "text/plain": [
              "'histori'"
            ],
            "application/vnd.google.colaboratory.intrinsic+json": {
              "type": "string"
            }
          },
          "metadata": {},
          "execution_count": 10
        }
      ]
    },
    {
      "cell_type": "markdown",
      "source": [
        "**LEMMATIZATION**"
      ],
      "metadata": {
        "id": "dgBBEWgFQc2C"
      }
    },
    {
      "cell_type": "code",
      "source": [
        "from nltk.stem import WordNetLemmatizer"
      ],
      "metadata": {
        "id": "gguTYIpeQM3K"
      },
      "execution_count": 11,
      "outputs": []
    },
    {
      "cell_type": "code",
      "source": [
        "nltk.download('averaged_perceptron_tagger')"
      ],
      "metadata": {
        "id": "uYsjZ-zRRHfX",
        "outputId": "37e0a2ba-261a-4f7e-fb31-f85041d3b8c6",
        "colab": {
          "base_uri": "https://localhost:8080/"
        }
      },
      "execution_count": 12,
      "outputs": [
        {
          "output_type": "stream",
          "name": "stderr",
          "text": [
            "[nltk_data] Downloading package averaged_perceptron_tagger to\n",
            "[nltk_data]     /root/nltk_data...\n",
            "[nltk_data]   Unzipping taggers/averaged_perceptron_tagger.zip.\n"
          ]
        },
        {
          "output_type": "execute_result",
          "data": {
            "text/plain": [
              "True"
            ]
          },
          "metadata": {},
          "execution_count": 12
        }
      ]
    },
    {
      "cell_type": "code",
      "source": [
        "lemmatizer = WordNetLemmatizer()"
      ],
      "metadata": {
        "id": "cDrDB86cQX65"
      },
      "execution_count": 13,
      "outputs": []
    },
    {
      "cell_type": "code",
      "source": [
        "nltk.download('stopwords')"
      ],
      "metadata": {
        "colab": {
          "base_uri": "https://localhost:8080/"
        },
        "id": "E6Y-baHwQpcq",
        "outputId": "12c0833f-f85d-4fd9-ef3c-359a5b5753de"
      },
      "execution_count": 14,
      "outputs": [
        {
          "output_type": "stream",
          "name": "stderr",
          "text": [
            "[nltk_data] Downloading package stopwords to /root/nltk_data...\n",
            "[nltk_data]   Unzipping corpora/stopwords.zip.\n"
          ]
        },
        {
          "output_type": "execute_result",
          "data": {
            "text/plain": [
              "True"
            ]
          },
          "metadata": {},
          "execution_count": 14
        }
      ]
    },
    {
      "cell_type": "code",
      "source": [
        "nltk.download('wordnet')"
      ],
      "metadata": {
        "colab": {
          "base_uri": "https://localhost:8080/"
        },
        "id": "xttjWMysVBB5",
        "outputId": "2571de95-1fb0-4eac-8014-f96a0d194b69"
      },
      "execution_count": 15,
      "outputs": [
        {
          "output_type": "stream",
          "name": "stderr",
          "text": [
            "[nltk_data] Downloading package wordnet to /root/nltk_data...\n"
          ]
        },
        {
          "output_type": "execute_result",
          "data": {
            "text/plain": [
              "True"
            ]
          },
          "metadata": {},
          "execution_count": 15
        }
      ]
    },
    {
      "cell_type": "code",
      "source": [
        "len(sentences)"
      ],
      "metadata": {
        "id": "BbaGbI9JQtyu",
        "colab": {
          "base_uri": "https://localhost:8080/"
        },
        "outputId": "0e60bc5c-a97c-493b-d514-ff6cb42e9d38"
      },
      "execution_count": 16,
      "outputs": [
        {
          "output_type": "execute_result",
          "data": {
            "text/plain": [
              "7"
            ]
          },
          "metadata": {},
          "execution_count": 16
        }
      ]
    },
    {
      "cell_type": "code",
      "source": [
        "import re"
      ],
      "metadata": {
        "id": "eAxg3WoMSgL1"
      },
      "execution_count": 17,
      "outputs": []
    },
    {
      "cell_type": "code",
      "source": [
        "corpus = []\n",
        "for i in range(len(sentences)):\n",
        "  review = re.sub('[^a-zA-Z]',' ', sentences[i])\n",
        "  review = review.lower()\n",
        "  corpus.append(review)"
      ],
      "metadata": {
        "id": "lTs4jDFCSiRp"
      },
      "execution_count": 18,
      "outputs": []
    },
    {
      "cell_type": "code",
      "source": [
        "corpus"
      ],
      "metadata": {
        "colab": {
          "base_uri": "https://localhost:8080/"
        },
        "id": "rnyBWAaVS_co",
        "outputId": "8ff59ede-bd06-4f67-ceab-2eb54c8b5c66"
      },
      "execution_count": 19,
      "outputs": [
        {
          "output_type": "execute_result",
          "data": {
            "text/plain": [
              "[' one piece has received praise for its storytelling  world building  art  characterization  and humor ',\n",
              " 'it has received many awards and is ranked by critics  reviewers  and readers as one of the best manga of all time ',\n",
              " 'as of august       it had over       million copies in circulation in    countries and regions worldwide  making it the best selling manga series in history  and the best selling comic series printed in book volume ',\n",
              " 'several volumes of the manga have broken publishing records  including the highest initial print run of any book in japan ',\n",
              " 'in      and       one piece set the guinness world record for  the most copies published for the same comic book series by a single author  ',\n",
              " 'it was the best selling manga for eleven consecutive years from      to       and is the only manga that had an initial print of volumes of above   million continuously for more than    years  as well as the only that had achieved more than   million copies sold in all of its over     published tank bon volumes ',\n",
              " 'one piece is the only manga whose volumes have ranked first every year in oricon s weekly comic chart existence since      ']"
            ]
          },
          "metadata": {},
          "execution_count": 19
        }
      ]
    },
    {
      "cell_type": "code",
      "source": [
        "## stemming\n",
        "\n",
        "for i in corpus:\n",
        "  words = nltk.word_tokenize(i)\n",
        "  for word in words:\n",
        "    if word not in set(stopwords.words('english')):\n",
        "      print(stemmer.stem(word))"
      ],
      "metadata": {
        "colab": {
          "base_uri": "https://localhost:8080/"
        },
        "id": "ed2f_cLLTBU1",
        "outputId": "ef8d5f0a-f613-4279-fa6f-3b62e11e94c8"
      },
      "execution_count": 20,
      "outputs": [
        {
          "output_type": "stream",
          "name": "stdout",
          "text": [
            "one\n",
            "piec\n",
            "receiv\n",
            "prais\n",
            "storytel\n",
            "world\n",
            "build\n",
            "art\n",
            "character\n",
            "humor\n",
            "receiv\n",
            "mani\n",
            "award\n",
            "rank\n",
            "critic\n",
            "review\n",
            "reader\n",
            "one\n",
            "best\n",
            "manga\n",
            "time\n",
            "august\n",
            "million\n",
            "copi\n",
            "circul\n",
            "countri\n",
            "region\n",
            "worldwid\n",
            "make\n",
            "best\n",
            "sell\n",
            "manga\n",
            "seri\n",
            "histori\n",
            "best\n",
            "sell\n",
            "comic\n",
            "seri\n",
            "print\n",
            "book\n",
            "volum\n",
            "sever\n",
            "volum\n",
            "manga\n",
            "broken\n",
            "publish\n",
            "record\n",
            "includ\n",
            "highest\n",
            "initi\n",
            "print\n",
            "run\n",
            "book\n",
            "japan\n",
            "one\n",
            "piec\n",
            "set\n",
            "guin\n",
            "world\n",
            "record\n",
            "copi\n",
            "publish\n",
            "comic\n",
            "book\n",
            "seri\n",
            "singl\n",
            "author\n",
            "best\n",
            "sell\n",
            "manga\n",
            "eleven\n",
            "consecut\n",
            "year\n",
            "manga\n",
            "initi\n",
            "print\n",
            "volum\n",
            "million\n",
            "continu\n",
            "year\n",
            "well\n",
            "achiev\n",
            "million\n",
            "copi\n",
            "sold\n",
            "publish\n",
            "tank\n",
            "bon\n",
            "volum\n",
            "one\n",
            "piec\n",
            "manga\n",
            "whose\n",
            "volum\n",
            "rank\n",
            "first\n",
            "everi\n",
            "year\n",
            "oricon\n",
            "weekli\n",
            "comic\n",
            "chart\n",
            "exist\n",
            "sinc\n"
          ]
        }
      ]
    },
    {
      "cell_type": "code",
      "source": [
        "for i in corpus:\n",
        "  words = nltk.word_tokenize(i)\n",
        "  for word in words:\n",
        "    if word not in set(stopwords.words('english')):\n",
        "      print(lemmatizer.lemmatize(word))"
      ],
      "metadata": {
        "colab": {
          "base_uri": "https://localhost:8080/"
        },
        "id": "DK-hKyutUUhB",
        "outputId": "f7c9cb0e-92d9-42d2-fcd2-a40b6f98b5dc"
      },
      "execution_count": 21,
      "outputs": [
        {
          "output_type": "stream",
          "name": "stdout",
          "text": [
            "one\n",
            "piece\n",
            "received\n",
            "praise\n",
            "storytelling\n",
            "world\n",
            "building\n",
            "art\n",
            "characterization\n",
            "humor\n",
            "received\n",
            "many\n",
            "award\n",
            "ranked\n",
            "critic\n",
            "reviewer\n",
            "reader\n",
            "one\n",
            "best\n",
            "manga\n",
            "time\n",
            "august\n",
            "million\n",
            "copy\n",
            "circulation\n",
            "country\n",
            "region\n",
            "worldwide\n",
            "making\n",
            "best\n",
            "selling\n",
            "manga\n",
            "series\n",
            "history\n",
            "best\n",
            "selling\n",
            "comic\n",
            "series\n",
            "printed\n",
            "book\n",
            "volume\n",
            "several\n",
            "volume\n",
            "manga\n",
            "broken\n",
            "publishing\n",
            "record\n",
            "including\n",
            "highest\n",
            "initial\n",
            "print\n",
            "run\n",
            "book\n",
            "japan\n",
            "one\n",
            "piece\n",
            "set\n",
            "guinness\n",
            "world\n",
            "record\n",
            "copy\n",
            "published\n",
            "comic\n",
            "book\n",
            "series\n",
            "single\n",
            "author\n",
            "best\n",
            "selling\n",
            "manga\n",
            "eleven\n",
            "consecutive\n",
            "year\n",
            "manga\n",
            "initial\n",
            "print\n",
            "volume\n",
            "million\n",
            "continuously\n",
            "year\n",
            "well\n",
            "achieved\n",
            "million\n",
            "copy\n",
            "sold\n",
            "published\n",
            "tank\n",
            "bon\n",
            "volume\n",
            "one\n",
            "piece\n",
            "manga\n",
            "whose\n",
            "volume\n",
            "ranked\n",
            "first\n",
            "every\n",
            "year\n",
            "oricon\n",
            "weekly\n",
            "comic\n",
            "chart\n",
            "existence\n",
            "since\n"
          ]
        }
      ]
    },
    {
      "cell_type": "code",
      "source": [
        "## Apply stopwords . lemmatize\n",
        "\n",
        "import re\n",
        "corpus = []\n",
        "for i in range(len(sentences)):\n",
        "  review = re.sub('[^a-zA-Z]', ' ', sentences[i])\n",
        "  review = review.lower()\n",
        "  review = review.split()\n",
        "  review = [lemmatizer.lemmatize(word) for word in review if not word in set(stopwords.words('english'))]\n",
        "  review = ' '.join(review)\n",
        "  corpus.append(review)"
      ],
      "metadata": {
        "id": "997XsScaaZKQ"
      },
      "execution_count": 22,
      "outputs": []
    },
    {
      "cell_type": "code",
      "source": [
        "## bag of words\n",
        "\n",
        "from sklearn.feature_extraction.text import CountVectorizer\n",
        "cv = CountVectorizer(binary = True, ngram_range=(2,3))"
      ],
      "metadata": {
        "id": "cPqVZ-_JU5SH"
      },
      "execution_count": 31,
      "outputs": []
    },
    {
      "cell_type": "code",
      "source": [
        "X = cv.fit_transform(corpus)"
      ],
      "metadata": {
        "id": "-WvLcHRaXy6e"
      },
      "execution_count": 32,
      "outputs": []
    },
    {
      "cell_type": "code",
      "source": [
        "cv.vocabulary_"
      ],
      "metadata": {
        "colab": {
          "base_uri": "https://localhost:8080/"
        },
        "id": "phA_OeK0X6vd",
        "outputId": "535c6529-4521-4da4-bb33-161275147e74"
      },
      "execution_count": 33,
      "outputs": [
        {
          "output_type": "execute_result",
          "data": {
            "text/plain": [
              "{'one piece': 87,\n",
              " 'piece received': 95,\n",
              " 'received praise': 121,\n",
              " 'praise storytelling': 99,\n",
              " 'storytelling world': 151,\n",
              " 'world building': 167,\n",
              " 'building art': 20,\n",
              " 'art characterization': 2,\n",
              " 'characterization humor': 22,\n",
              " 'one piece received': 89,\n",
              " 'piece received praise': 96,\n",
              " 'received praise storytelling': 122,\n",
              " 'praise storytelling world': 100,\n",
              " 'storytelling world building': 152,\n",
              " 'world building art': 168,\n",
              " 'building art characterization': 21,\n",
              " 'art characterization humor': 3,\n",
              " 'received many': 119,\n",
              " 'many award': 78,\n",
              " 'award ranked': 6,\n",
              " 'ranked critic': 113,\n",
              " 'critic reviewer': 45,\n",
              " 'reviewer reader': 129,\n",
              " 'reader one': 117,\n",
              " 'one best': 85,\n",
              " 'best manga': 8,\n",
              " 'manga time': 75,\n",
              " 'received many award': 120,\n",
              " 'many award ranked': 79,\n",
              " 'award ranked critic': 7,\n",
              " 'ranked critic reviewer': 114,\n",
              " 'critic reviewer reader': 46,\n",
              " 'reviewer reader one': 130,\n",
              " 'reader one best': 118,\n",
              " 'one best manga': 86,\n",
              " 'best manga time': 9,\n",
              " 'august million': 4,\n",
              " 'million copy': 82,\n",
              " 'copy circulation': 37,\n",
              " 'circulation country': 25,\n",
              " 'country region': 43,\n",
              " 'region worldwide': 127,\n",
              " 'worldwide making': 171,\n",
              " 'making best': 65,\n",
              " 'best selling': 10,\n",
              " 'selling manga': 135,\n",
              " 'manga series': 73,\n",
              " 'series history': 138,\n",
              " 'history best': 58,\n",
              " 'selling comic': 133,\n",
              " 'comic series': 31,\n",
              " 'series printed': 140,\n",
              " 'printed book': 105,\n",
              " 'book volume': 17,\n",
              " 'august million copy': 5,\n",
              " 'million copy circulation': 83,\n",
              " 'copy circulation country': 38,\n",
              " 'circulation country region': 26,\n",
              " 'country region worldwide': 44,\n",
              " 'region worldwide making': 128,\n",
              " 'worldwide making best': 172,\n",
              " 'making best selling': 66,\n",
              " 'best selling manga': 12,\n",
              " 'selling manga series': 137,\n",
              " 'manga series history': 74,\n",
              " 'series history best': 139,\n",
              " 'history best selling': 59,\n",
              " 'best selling comic': 11,\n",
              " 'selling comic series': 134,\n",
              " 'comic series printed': 32,\n",
              " 'series printed book': 141,\n",
              " 'printed book volume': 106,\n",
              " 'several volume': 146,\n",
              " 'volume manga': 155,\n",
              " 'manga broken': 67,\n",
              " 'broken publishing': 18,\n",
              " 'publishing record': 111,\n",
              " 'record including': 125,\n",
              " 'including highest': 60,\n",
              " 'highest initial': 56,\n",
              " 'initial print': 62,\n",
              " 'print run': 101,\n",
              " 'run book': 131,\n",
              " 'book japan': 14,\n",
              " 'several volume manga': 147,\n",
              " 'volume manga broken': 156,\n",
              " 'manga broken publishing': 68,\n",
              " 'broken publishing record': 19,\n",
              " 'publishing record including': 112,\n",
              " 'record including highest': 126,\n",
              " 'including highest initial': 61,\n",
              " 'highest initial print': 57,\n",
              " 'initial print run': 63,\n",
              " 'print run book': 102,\n",
              " 'run book japan': 132,\n",
              " 'piece set': 97,\n",
              " 'set guinness': 144,\n",
              " 'guinness world': 54,\n",
              " 'world record': 169,\n",
              " 'record copy': 123,\n",
              " 'copy published': 39,\n",
              " 'published comic': 107,\n",
              " 'comic book': 27,\n",
              " 'book series': 15,\n",
              " 'series single': 142,\n",
              " 'single author': 148,\n",
              " 'one piece set': 90,\n",
              " 'piece set guinness': 98,\n",
              " 'set guinness world': 145,\n",
              " 'guinness world record': 55,\n",
              " 'world record copy': 170,\n",
              " 'record copy published': 124,\n",
              " 'copy published comic': 40,\n",
              " 'published comic book': 108,\n",
              " 'comic book series': 28,\n",
              " 'book series single': 16,\n",
              " 'series single author': 143,\n",
              " 'manga eleven': 69,\n",
              " 'eleven consecutive': 47,\n",
              " 'consecutive year': 33,\n",
              " 'year manga': 173,\n",
              " 'manga initial': 71,\n",
              " 'print volume': 103,\n",
              " 'volume million': 157,\n",
              " 'million continuously': 80,\n",
              " 'continuously year': 35,\n",
              " 'year well': 177,\n",
              " 'well achieved': 163,\n",
              " 'achieved million': 0,\n",
              " 'copy sold': 41,\n",
              " 'sold published': 149,\n",
              " 'published tank': 109,\n",
              " 'tank bon': 153,\n",
              " 'bon volume': 13,\n",
              " 'selling manga eleven': 136,\n",
              " 'manga eleven consecutive': 70,\n",
              " 'eleven consecutive year': 48,\n",
              " 'consecutive year manga': 34,\n",
              " 'year manga initial': 174,\n",
              " 'manga initial print': 72,\n",
              " 'initial print volume': 64,\n",
              " 'print volume million': 104,\n",
              " 'volume million continuously': 158,\n",
              " 'million continuously year': 81,\n",
              " 'continuously year well': 36,\n",
              " 'year well achieved': 178,\n",
              " 'well achieved million': 164,\n",
              " 'achieved million copy': 1,\n",
              " 'million copy sold': 84,\n",
              " 'copy sold published': 42,\n",
              " 'sold published tank': 150,\n",
              " 'published tank bon': 110,\n",
              " 'tank bon volume': 154,\n",
              " 'piece manga': 93,\n",
              " 'manga whose': 76,\n",
              " 'whose volume': 165,\n",
              " 'volume ranked': 159,\n",
              " 'ranked first': 115,\n",
              " 'first every': 52,\n",
              " 'every year': 49,\n",
              " 'year oricon': 175,\n",
              " 'oricon weekly': 91,\n",
              " 'weekly comic': 161,\n",
              " 'comic chart': 29,\n",
              " 'chart existence': 23,\n",
              " 'existence since': 51,\n",
              " 'one piece manga': 88,\n",
              " 'piece manga whose': 94,\n",
              " 'manga whose volume': 77,\n",
              " 'whose volume ranked': 166,\n",
              " 'volume ranked first': 160,\n",
              " 'ranked first every': 116,\n",
              " 'first every year': 53,\n",
              " 'every year oricon': 50,\n",
              " 'year oricon weekly': 176,\n",
              " 'oricon weekly comic': 92,\n",
              " 'weekly comic chart': 162,\n",
              " 'comic chart existence': 30,\n",
              " 'chart existence since': 24}"
            ]
          },
          "metadata": {},
          "execution_count": 33
        }
      ]
    },
    {
      "cell_type": "code",
      "source": [
        "X[0].toarray()"
      ],
      "metadata": {
        "colab": {
          "base_uri": "https://localhost:8080/"
        },
        "id": "6y2nB3xLX-PF",
        "outputId": "ef087c44-798f-4817-e033-e8b2b09b99ff"
      },
      "execution_count": 34,
      "outputs": [
        {
          "output_type": "execute_result",
          "data": {
            "text/plain": [
              "array([[0, 0, 1, 1, 0, 0, 0, 0, 0, 0, 0, 0, 0, 0, 0, 0, 0, 0, 0, 0, 1, 1,\n",
              "        1, 0, 0, 0, 0, 0, 0, 0, 0, 0, 0, 0, 0, 0, 0, 0, 0, 0, 0, 0, 0, 0,\n",
              "        0, 0, 0, 0, 0, 0, 0, 0, 0, 0, 0, 0, 0, 0, 0, 0, 0, 0, 0, 0, 0, 0,\n",
              "        0, 0, 0, 0, 0, 0, 0, 0, 0, 0, 0, 0, 0, 0, 0, 0, 0, 0, 0, 0, 0, 1,\n",
              "        0, 1, 0, 0, 0, 0, 0, 1, 1, 0, 0, 1, 1, 0, 0, 0, 0, 0, 0, 0, 0, 0,\n",
              "        0, 0, 0, 0, 0, 0, 0, 0, 0, 0, 0, 1, 1, 0, 0, 0, 0, 0, 0, 0, 0, 0,\n",
              "        0, 0, 0, 0, 0, 0, 0, 0, 0, 0, 0, 0, 0, 0, 0, 0, 0, 0, 0, 1, 1, 0,\n",
              "        0, 0, 0, 0, 0, 0, 0, 0, 0, 0, 0, 0, 0, 1, 1, 0, 0, 0, 0, 0, 0, 0,\n",
              "        0, 0, 0]])"
            ]
          },
          "metadata": {},
          "execution_count": 34
        }
      ]
    },
    {
      "cell_type": "code",
      "source": [
        "## TF-IDF\n",
        "\n",
        "from sklearn.feature_extraction.text import TfidfVectorizer\n",
        "cv =  TfidfVectorizer(ngram_range = (1,1), max_features=10)\n",
        "X = cv.fit_transform(corpus)"
      ],
      "metadata": {
        "id": "nFxi73AiZpSG"
      },
      "execution_count": 44,
      "outputs": []
    },
    {
      "cell_type": "code",
      "source": [
        "corpus[0]"
      ],
      "metadata": {
        "colab": {
          "base_uri": "https://localhost:8080/",
          "height": 36
        },
        "id": "f5RtpdrMaEzJ",
        "outputId": "a2aff2a4-c0d6-4ffb-b014-eae7994cceb9"
      },
      "execution_count": 45,
      "outputs": [
        {
          "output_type": "execute_result",
          "data": {
            "text/plain": [
              "'one piece received praise storytelling world building art characterization humor'"
            ],
            "application/vnd.google.colaboratory.intrinsic+json": {
              "type": "string"
            }
          },
          "metadata": {},
          "execution_count": 45
        }
      ]
    },
    {
      "cell_type": "code",
      "source": [
        "X[0].toarray()"
      ],
      "metadata": {
        "colab": {
          "base_uri": "https://localhost:8080/"
        },
        "id": "6oM1JktTaGcV",
        "outputId": "eec78264-d05b-4ae4-8191-5fe46406376a"
      },
      "execution_count": 46,
      "outputs": [
        {
          "output_type": "execute_result",
          "data": {
            "text/plain": [
              "array([[0., 0., 0., 0., 0., 1., 0., 0., 0., 0.]])"
            ]
          },
          "metadata": {},
          "execution_count": 46
        }
      ]
    },
    {
      "cell_type": "code",
      "source": [],
      "metadata": {
        "id": "pjriKgbuaJTv"
      },
      "execution_count": null,
      "outputs": []
    }
  ]
}